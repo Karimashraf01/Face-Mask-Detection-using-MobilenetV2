{
 "cells": [
  {
   "cell_type": "markdown",
   "metadata": {},
   "source": [
    "## Loading Libraries"
   ]
  },
  {
   "cell_type": "code",
   "execution_count": 1,
   "metadata": {},
   "outputs": [],
   "source": [
    "import tensorflow as tf\n",
    "from tensorflow.keras.preprocessing.image import ImageDataGenerator\n",
    "from keras.applications.mobilenet_v2 import MobileNetV2\n",
    "from keras import Sequential\n",
    "from keras.layers import Flatten, Dense"
   ]
  },
  {
   "cell_type": "markdown",
   "metadata": {},
   "source": [
    "## Data Loading and Augmentation"
   ]
  },
  {
   "cell_type": "code",
   "execution_count": 2,
   "metadata": {},
   "outputs": [],
   "source": [
    "train_dir = r'Face Mask Dataset/Train'\n",
    "test_dir = r'Face Mask Dataset/Test'\n",
    "validation_dir = r'Face Mask Dataset/Validation'"
   ]
  },
  {
   "cell_type": "code",
   "execution_count": 3,
   "metadata": {},
   "outputs": [
    {
     "name": "stdout",
     "output_type": "stream",
     "text": [
      "Found 10023 images belonging to 2 classes.\n",
      "Found 800 images belonging to 2 classes.\n"
     ]
    }
   ],
   "source": [
    "train_datagen = ImageDataGenerator(\n",
    "      rescale=1./255,\n",
    "      rotation_range=40,\n",
    "      width_shift_range=0.2,\n",
    "      height_shift_range=0.2,\n",
    "      shear_range=0.2,\n",
    "      zoom_range=0.2,\n",
    "      horizontal_flip=True,\n",
    "      fill_mode='nearest')\n",
    "\n",
    "test_datagen = ImageDataGenerator(rescale=1./255)\n",
    "\n",
    "# Flow training images in batches of 20 using train_datagen generator\n",
    "train_generator = train_datagen.flow_from_directory(\n",
    "        train_dir,  # This is the source directory for training images\n",
    "        target_size=(128, 128),  # All images will be resized to 150x150\n",
    "        batch_size=32,\n",
    "        # Since we use binary_crossentropy loss, we need binary labels\n",
    "        class_mode='categorical')\n",
    "\n",
    "# Flow validation images in batches of 20 using test_datagen generator\n",
    "validation_generator = test_datagen.flow_from_directory(\n",
    "        validation_dir,\n",
    "        target_size=(128, 128),\n",
    "        batch_size=32,\n",
    "        class_mode='categorical')"
   ]
  },
  {
   "cell_type": "markdown",
   "metadata": {},
   "source": [
    "## Importing Model"
   ]
  },
  {
   "cell_type": "code",
   "execution_count": 4,
   "metadata": {},
   "outputs": [],
   "source": [
    "mobilenet_v2 = MobileNetV2(weights='imagenet',include_top=False,input_shape=(128,128,3))\n",
    "\n",
    "for layer in mobilenet_v2.layers:\n",
    "    layer.trainable = False"
   ]
  },
  {
   "cell_type": "code",
   "execution_count": 5,
   "metadata": {},
   "outputs": [
    {
     "name": "stdout",
     "output_type": "stream",
     "text": [
      "Model: \"sequential\"\n",
      "_________________________________________________________________\n",
      "Layer (type)                 Output Shape              Param #   \n",
      "=================================================================\n",
      "mobilenetv2_1.00_128 (Functi (None, 4, 4, 1280)        2257984   \n",
      "_________________________________________________________________\n",
      "flatten (Flatten)            (None, 20480)             0         \n",
      "_________________________________________________________________\n",
      "dense (Dense)                (None, 2)                 40962     \n",
      "=================================================================\n",
      "Total params: 2,298,946\n",
      "Trainable params: 40,962\n",
      "Non-trainable params: 2,257,984\n",
      "_________________________________________________________________\n"
     ]
    }
   ],
   "source": [
    "model = Sequential()\n",
    "model.add(mobilenet_v2)\n",
    "model.add(Flatten())\n",
    "model.add(Dense(2,activation='softmax'))\n",
    "model.summary()"
   ]
  },
  {
   "cell_type": "code",
   "execution_count": 6,
   "metadata": {},
   "outputs": [],
   "source": [
    "model.compile(optimizer=\"adam\",loss=\"categorical_crossentropy\",metrics =\"accuracy\")"
   ]
  },
  {
   "cell_type": "markdown",
   "metadata": {},
   "source": [
    "## Training"
   ]
  },
  {
   "cell_type": "code",
   "execution_count": null,
   "metadata": {},
   "outputs": [
    {
     "name": "stdout",
     "output_type": "stream",
     "text": [
      "WARNING:tensorflow:From <ipython-input-7-d894d67720c0>:4: Model.fit_generator (from tensorflow.python.keras.engine.training) is deprecated and will be removed in a future version.\n",
      "Instructions for updating:\n",
      "Please use Model.fit, which supports generators.\n",
      "Epoch 1/20\n",
      "9/9 [==============================] - 11s 1s/step - loss: 0.3146 - accuracy: 0.9062\n",
      "Epoch 2/20\n",
      "9/9 [==============================] - 10s 1s/step - loss: 0.3442 - accuracy: 0.9306\n",
      "Epoch 3/20\n",
      "9/9 [==============================] - 9s 1s/step - loss: 0.1627 - accuracy: 0.9618\n",
      "Epoch 4/20\n",
      "9/9 [==============================] - 9s 1s/step - loss: 0.2909 - accuracy: 0.9479\n",
      "Epoch 5/20\n",
      "9/9 [==============================] - 7s 832ms/step - loss: 0.1556 - accuracy: 0.9757\n",
      "Epoch 6/20\n",
      "9/9 [==============================] - 8s 846ms/step - loss: 0.2314 - accuracy: 0.9583\n",
      "Epoch 7/20\n",
      "9/9 [==============================] - 7s 799ms/step - loss: 0.1469 - accuracy: 0.9653\n",
      "Epoch 8/20\n",
      "9/9 [==============================] - 6s 721ms/step - loss: 0.1047 - accuracy: 0.9792\n",
      "Epoch 9/20\n",
      "9/9 [==============================] - 6s 664ms/step - loss: 0.2099 - accuracy: 0.9688\n",
      "Epoch 10/20\n",
      "9/9 [==============================] - 6s 641ms/step - loss: 0.2097 - accuracy: 0.9479\n",
      "Epoch 11/20\n",
      "9/9 [==============================] - 6s 623ms/step - loss: 0.1174 - accuracy: 0.9792\n",
      "Epoch 12/20\n",
      "9/9 [==============================] - 5s 552ms/step - loss: 0.3449 - accuracy: 0.9479\n",
      "Epoch 13/20\n",
      "9/9 [==============================] - 5s 528ms/step - loss: 0.0365 - accuracy: 0.9886\n",
      "Epoch 14/20\n",
      "9/9 [==============================] - 5s 542ms/step - loss: 0.2707 - accuracy: 0.9479\n",
      "Epoch 15/20\n",
      "9/9 [==============================] - 5s 552ms/step - loss: 0.1055 - accuracy: 0.9688\n",
      "Epoch 16/20\n",
      "9/9 [==============================] - 5s 507ms/step - loss: 0.1903 - accuracy: 0.9722\n",
      "Epoch 17/20\n",
      "9/9 [==============================] - 4s 473ms/step - loss: 0.2622 - accuracy: 0.9618\n",
      "Epoch 18/20\n",
      "8/9 [=========================>....] - ETA: 0s - loss: 0.4818 - accuracy: 0.9375"
     ]
    }
   ],
   "source": [
    "history = model.fit_generator(generator=train_generator,\n",
    "                              steps_per_epoch=len(train_generator)//32,\n",
    "                              epochs=20,validation_data=validation_generator,\n",
    "                              validation_steps=len(validation_generator)//32)"
   ]
  },
  {
   "cell_type": "code",
   "execution_count": 8,
   "metadata": {},
   "outputs": [],
   "source": [
    "model.save('masknet.h5')"
   ]
  },
  {
   "cell_type": "markdown",
   "metadata": {},
   "source": [
    "## Testing Model"
   ]
  },
  {
   "cell_type": "code",
   "execution_count": null,
   "metadata": {},
   "outputs": [],
   "source": [
    "test_datagen = ImageDataGenerator(rescale=1.0/255)\n",
    "test_generator = train_datagen.flow_from_directory(directory=test_dir,target_size=(128,128),class_mode='categorical',batch_size=32)"
   ]
  },
  {
   "cell_type": "code",
   "execution_count": null,
   "metadata": {},
   "outputs": [],
   "source": [
    "model.evaluate_generator(test_generator)"
   ]
  },
  {
   "cell_type": "code",
   "execution_count": null,
   "metadata": {},
   "outputs": [],
   "source": [
    "import cv2 \n",
    "import matplotlib.pyplot as plt\n",
    "import numpy as np\n",
    "sample_mask_img = cv2.imread(test_dir+r'\\Withmask\\190.png')\n",
    "sample_mask_img = cv2.resize(sample_mask_img,(128,128))\n",
    "plt.figure(figsize=(1,1))\n",
    "x=cv2.cvtColor(sample_mask_img, cv2.COLOR_BGR2RGB)\n",
    "plt.imshow(x)\n",
    "sample_mask_img = np.reshape(sample_mask_img,[1,128,128,3])\n",
    "sample_mask_img = sample_mask_img/255.0"
   ]
  },
  {
   "cell_type": "code",
   "execution_count": null,
   "metadata": {},
   "outputs": [],
   "source": [
    "model.predict(sample_mask_img)"
   ]
  }
 ],
 "metadata": {
  "kernelspec": {
   "display_name": "Python 3",
   "language": "python",
   "name": "python3"
  },
  "language_info": {
   "codemirror_mode": {
    "name": "ipython",
    "version": 3
   },
   "file_extension": ".py",
   "mimetype": "text/x-python",
   "name": "python",
   "nbconvert_exporter": "python",
   "pygments_lexer": "ipython3",
   "version": "3.6.8"
  }
 },
 "nbformat": 4,
 "nbformat_minor": 4
}
